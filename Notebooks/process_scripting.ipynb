{
 "cells": [
  {
   "cell_type": "markdown",
   "metadata": {},
   "source": []
  },
  {
   "cell_type": "code",
   "execution_count": 1,
   "metadata": {},
   "outputs": [],
   "source": [
    "import logging\n",
    "\n",
    "logger = logging.getLogger(__name__)"
   ]
  },
  {
   "cell_type": "code",
   "execution_count": 2,
   "metadata": {},
   "outputs": [],
   "source": [
    "%load_ext autoreload\n",
    "%autoreload 2\n",
    "\n",
    "import pandas as pd\n",
    "import numpy as np\n",
    "from datetime import datetime, timedelta\n",
    "\n",
    "from short_tracker.data import (\n",
    "    query_all_sec_metadata, query_uk_si_disclosures, query_mkt_data, query_quotes,\n",
    "    SHORT_URL_UK, DATE_COL, FUND_COL, ISIN_COL, SHORT_POS_COL,\n",
    "    SHARE_ISSUER_COL, UK_DISCL_THRESHOLD,\n",
    ")\n",
    "from short_tracker.processing import (\n",
    "    check_cur_hist_discl_overlap, remove_dupl_shorts, ffill_discl_data, calc_fund_short_flow_bounds,\n",
    "    extract_sec_tickers, process_mkt_data, subset_top_shorts,\n",
    ")\n",
    "\n",
    "NUM_SUBSET = 20\n",
    "UK_MKT_TICKER = \"VUKE\"\n",
    "ALPHAVANGATE_KEY = \"\""
   ]
  },
  {
   "cell_type": "code",
   "execution_count": 3,
   "metadata": {},
   "outputs": [
    {
     "data": {
      "text/plain": [
       "datetime.date(2022, 12, 30)"
      ]
     },
     "execution_count": 3,
     "metadata": {},
     "output_type": "execute_result"
    }
   ],
   "source": [
    "discl_data, rept_date = query_uk_si_disclosures(SHORT_URL_UK) # exp_upd_time\n",
    "rept_date"
   ]
  },
  {
   "cell_type": "code",
   "execution_count": 4,
   "metadata": {},
   "outputs": [
    {
     "data": {
      "text/plain": [
       "datetime.date(2022, 12, 29)"
      ]
     },
     "execution_count": 4,
     "metadata": {},
     "output_type": "execute_result"
    }
   ],
   "source": [
    "cur_discl = discl_data['current']\n",
    "\n",
    "exp_max_discl_date = rept_date - timedelta(days=1)\n",
    "max_discl_date = cur_discl[DATE_COL].max().date()\n",
    "\n",
    "assert max_discl_date <= exp_max_discl_date\n",
    "max_discl_date"
   ]
  },
  {
   "cell_type": "code",
   "execution_count": 5,
   "metadata": {},
   "outputs": [],
   "source": [
    "# subset on current top N total overall shorts + top N individual shorts\n",
    "top_sec_shorts, top_fund_shorts = subset_top_shorts(cur_discl, NUM_SUBSET)"
   ]
  },
  {
   "cell_type": "code",
   "execution_count": 6,
   "metadata": {},
   "outputs": [
    {
     "name": "stdout",
     "output_type": "stream",
     "text": [
      "30\n"
     ]
    },
    {
     "data": {
      "text/plain": [
       "['GB00BK7YQK64',\n",
       " 'GB00B0H2K534',\n",
       " 'GB0001638955',\n",
       " 'GB00B63QSB39',\n",
       " 'GB00B7KR2P84']"
      ]
     },
     "execution_count": 6,
     "metadata": {},
     "output_type": "execute_result"
    }
   ],
   "source": [
    "isins = list({*top_fund_shorts[ISIN_COL].values, *top_sec_shorts[ISIN_COL].values})\n",
    "print(len(isins))\n",
    "isins[:5]"
   ]
  },
  {
   "cell_type": "code",
   "execution_count": 7,
   "metadata": {},
   "outputs": [
    {
     "data": {
      "text/plain": [
       "0"
      ]
     },
     "execution_count": 7,
     "metadata": {},
     "output_type": "execute_result"
    }
   ],
   "source": [
    "sec_metadata, err_isins = query_all_sec_metadata(isins, {\"idType\": \"ID_ISIN\", \"exchCode\": \"LN\"})\n",
    "len(err_isins)"
   ]
  },
  {
   "cell_type": "code",
   "execution_count": 8,
   "metadata": {},
   "outputs": [
    {
     "data": {
      "text/plain": [
       "['VUKE', 'HMSO', 'PFC', 'JDW', 'GRG']"
      ]
     },
     "execution_count": 8,
     "metadata": {},
     "output_type": "execute_result"
    }
   ],
   "source": [
    "isin_ticker_map = extract_sec_tickers(sec_metadata)\n",
    "tickers = [UK_MKT_TICKER, *isin_ticker_map.values()]\n",
    "query_tickers = [k.rstrip(\"/\") + '.L' for k in tickers]\n",
    "\n",
    "ticker_map = dict(zip(tickers, query_tickers))\n",
    "\n",
    "tickers[:5]"
   ]
  },
  {
   "cell_type": "code",
   "execution_count": 10,
   "metadata": {},
   "outputs": [],
   "source": [
    "query_start = datetime.today().date() - timedelta(days=365)\n",
    "\n",
    "mkt_data = {tkr: query_mkt_data(qry_tkr, query_start) for tkr, qry_tkr in ticker_map.items()}\n",
    "quotes = {tkr: query_quotes(qry_tkr) for tkr, qry_tkr in ticker_map.items()}"
   ]
  },
  {
   "cell_type": "code",
   "execution_count": 11,
   "metadata": {},
   "outputs": [
    {
     "name": "stderr",
     "output_type": "stream",
     "text": [
      "No share outstanding data for tickers: ['VUKE']\n"
     ]
    }
   ],
   "source": [
    "SH_OUT_COL = 'shares_outstanding'\n",
    "\n",
    "mkt_data_df = process_mkt_data(mkt_data)\n",
    "quotes_df = pd.DataFrame(quotes)\n",
    "sh_out = quotes_df.loc['sharesOutstanding'].rename(SH_OUT_COL)\n",
    "\n",
    "missing_sh_out = list(sh_out[sh_out.isna()].index)\n",
    "\n",
    "if missing_sh_out:\n",
    "    logger.warning(f\"No share outstanding data for tickers: {missing_sh_out}\")"
   ]
  },
  {
   "cell_type": "code",
   "execution_count": 12,
   "metadata": {},
   "outputs": [
    {
     "data": {
      "text/html": [
       "<div>\n",
       "<style scoped>\n",
       "    .dataframe tbody tr th:only-of-type {\n",
       "        vertical-align: middle;\n",
       "    }\n",
       "\n",
       "    .dataframe tbody tr th {\n",
       "        vertical-align: top;\n",
       "    }\n",
       "\n",
       "    .dataframe thead th {\n",
       "        text-align: right;\n",
       "    }\n",
       "</style>\n",
       "<table border=\"1\" class=\"dataframe\">\n",
       "  <thead>\n",
       "    <tr style=\"text-align: right;\">\n",
       "      <th></th>\n",
       "      <th>Close</th>\n",
       "      <th>Adj Close</th>\n",
       "      <th>Volume</th>\n",
       "      <th>Ticker</th>\n",
       "    </tr>\n",
       "  </thead>\n",
       "  <tbody>\n",
       "    <tr>\n",
       "      <th>2021-12-30</th>\n",
       "      <td>32.334999</td>\n",
       "      <td>32.334999</td>\n",
       "      <td>181089</td>\n",
       "      <td>VUKE</td>\n",
       "    </tr>\n",
       "    <tr>\n",
       "      <th>2021-12-31</th>\n",
       "      <td>32.259998</td>\n",
       "      <td>32.259998</td>\n",
       "      <td>63784</td>\n",
       "      <td>VUKE</td>\n",
       "    </tr>\n",
       "    <tr>\n",
       "      <th>2022-01-04</th>\n",
       "      <td>32.775002</td>\n",
       "      <td>32.775002</td>\n",
       "      <td>922919</td>\n",
       "      <td>VUKE</td>\n",
       "    </tr>\n",
       "    <tr>\n",
       "      <th>2022-01-05</th>\n",
       "      <td>32.860001</td>\n",
       "      <td>32.860001</td>\n",
       "      <td>379070</td>\n",
       "      <td>VUKE</td>\n",
       "    </tr>\n",
       "    <tr>\n",
       "      <th>2022-01-06</th>\n",
       "      <td>32.570000</td>\n",
       "      <td>32.570000</td>\n",
       "      <td>505078</td>\n",
       "      <td>VUKE</td>\n",
       "    </tr>\n",
       "    <tr>\n",
       "      <th>...</th>\n",
       "      <td>...</td>\n",
       "      <td>...</td>\n",
       "      <td>...</td>\n",
       "      <td>...</td>\n",
       "    </tr>\n",
       "    <tr>\n",
       "      <th>2022-12-22</th>\n",
       "      <td>34.950001</td>\n",
       "      <td>34.950001</td>\n",
       "      <td>10006476</td>\n",
       "      <td>BOO</td>\n",
       "    </tr>\n",
       "    <tr>\n",
       "      <th>2022-12-23</th>\n",
       "      <td>34.750000</td>\n",
       "      <td>34.750000</td>\n",
       "      <td>9713914</td>\n",
       "      <td>BOO</td>\n",
       "    </tr>\n",
       "    <tr>\n",
       "      <th>2022-12-28</th>\n",
       "      <td>33.889999</td>\n",
       "      <td>33.889999</td>\n",
       "      <td>13647584</td>\n",
       "      <td>BOO</td>\n",
       "    </tr>\n",
       "    <tr>\n",
       "      <th>2022-12-29</th>\n",
       "      <td>36.000000</td>\n",
       "      <td>36.000000</td>\n",
       "      <td>9983660</td>\n",
       "      <td>BOO</td>\n",
       "    </tr>\n",
       "    <tr>\n",
       "      <th>2022-12-30</th>\n",
       "      <td>35.430000</td>\n",
       "      <td>35.430000</td>\n",
       "      <td>2297051</td>\n",
       "      <td>BOO</td>\n",
       "    </tr>\n",
       "  </tbody>\n",
       "</table>\n",
       "<p>7806 rows × 4 columns</p>\n",
       "</div>"
      ],
      "text/plain": [
       "                Close  Adj Close    Volume Ticker\n",
       "2021-12-30  32.334999  32.334999    181089   VUKE\n",
       "2021-12-31  32.259998  32.259998     63784   VUKE\n",
       "2022-01-04  32.775002  32.775002    922919   VUKE\n",
       "2022-01-05  32.860001  32.860001    379070   VUKE\n",
       "2022-01-06  32.570000  32.570000    505078   VUKE\n",
       "...               ...        ...       ...    ...\n",
       "2022-12-22  34.950001  34.950001  10006476    BOO\n",
       "2022-12-23  34.750000  34.750000   9713914    BOO\n",
       "2022-12-28  33.889999  33.889999  13647584    BOO\n",
       "2022-12-29  36.000000  36.000000   9983660    BOO\n",
       "2022-12-30  35.430000  35.430000   2297051    BOO\n",
       "\n",
       "[7806 rows x 4 columns]"
      ]
     },
     "execution_count": 12,
     "metadata": {},
     "output_type": "execute_result"
    }
   ],
   "source": [
    "mkt_data_df"
   ]
  },
  {
   "cell_type": "code",
   "execution_count": 13,
   "metadata": {},
   "outputs": [
    {
     "data": {
      "text/html": [
       "<div>\n",
       "<style scoped>\n",
       "    .dataframe tbody tr th:only-of-type {\n",
       "        vertical-align: middle;\n",
       "    }\n",
       "\n",
       "    .dataframe tbody tr th {\n",
       "        vertical-align: top;\n",
       "    }\n",
       "\n",
       "    .dataframe thead th {\n",
       "        text-align: right;\n",
       "    }\n",
       "</style>\n",
       "<table border=\"1\" class=\"dataframe\">\n",
       "  <thead>\n",
       "    <tr style=\"text-align: right;\">\n",
       "      <th></th>\n",
       "      <th>Position Holder</th>\n",
       "      <th>Name of Share Issuer</th>\n",
       "      <th>ISIN</th>\n",
       "      <th>Net Short Position (%)</th>\n",
       "      <th>Position Date</th>\n",
       "    </tr>\n",
       "  </thead>\n",
       "  <tbody>\n",
       "    <tr>\n",
       "      <th>0</th>\n",
       "      <td>BlackRock Investment Management (UK) Limited</td>\n",
       "      <td>abrdn plc</td>\n",
       "      <td>GB00BF8Q6K64</td>\n",
       "      <td>1.05</td>\n",
       "      <td>2022-12-16</td>\n",
       "    </tr>\n",
       "    <tr>\n",
       "      <th>1</th>\n",
       "      <td>Citadel Advisors Europe Limited</td>\n",
       "      <td>abrdn plc</td>\n",
       "      <td>GB00BF8Q6K64</td>\n",
       "      <td>0.90</td>\n",
       "      <td>2022-11-22</td>\n",
       "    </tr>\n",
       "    <tr>\n",
       "      <th>2</th>\n",
       "      <td>Citadel Advisors LLC</td>\n",
       "      <td>abrdn plc</td>\n",
       "      <td>GB00BF8Q6K64</td>\n",
       "      <td>1.00</td>\n",
       "      <td>2022-12-29</td>\n",
       "    </tr>\n",
       "    <tr>\n",
       "      <th>3</th>\n",
       "      <td>GLG Partners LP</td>\n",
       "      <td>abrdn plc</td>\n",
       "      <td>GB00BF8Q6K64</td>\n",
       "      <td>1.15</td>\n",
       "      <td>2022-12-16</td>\n",
       "    </tr>\n",
       "    <tr>\n",
       "      <th>4</th>\n",
       "      <td>Qube Research &amp; Technologies Limited</td>\n",
       "      <td>abrdn plc</td>\n",
       "      <td>GB00BF8Q6K64</td>\n",
       "      <td>0.55</td>\n",
       "      <td>2022-12-16</td>\n",
       "    </tr>\n",
       "    <tr>\n",
       "      <th>...</th>\n",
       "      <td>...</td>\n",
       "      <td>...</td>\n",
       "      <td>...</td>\n",
       "      <td>...</td>\n",
       "      <td>...</td>\n",
       "    </tr>\n",
       "    <tr>\n",
       "      <th>295</th>\n",
       "      <td>GLG Partners LP</td>\n",
       "      <td>WOOD GROUP (JOHN) PLC</td>\n",
       "      <td>GB00B5N0P849</td>\n",
       "      <td>0.68</td>\n",
       "      <td>2022-11-11</td>\n",
       "    </tr>\n",
       "    <tr>\n",
       "      <th>296</th>\n",
       "      <td>Qube Research &amp; Technologies Limited</td>\n",
       "      <td>WOOD GROUP (JOHN) PLC</td>\n",
       "      <td>GB00B5N0P849</td>\n",
       "      <td>0.81</td>\n",
       "      <td>2022-12-16</td>\n",
       "    </tr>\n",
       "    <tr>\n",
       "      <th>297</th>\n",
       "      <td>Marshall Wace LLP</td>\n",
       "      <td>WPP PLC</td>\n",
       "      <td>JE00B8KF9B49</td>\n",
       "      <td>0.79</td>\n",
       "      <td>2022-12-13</td>\n",
       "    </tr>\n",
       "    <tr>\n",
       "      <th>298</th>\n",
       "      <td>GLG Partners LP</td>\n",
       "      <td>XP Power Limited</td>\n",
       "      <td>SG9999003735</td>\n",
       "      <td>1.06</td>\n",
       "      <td>2022-11-10</td>\n",
       "    </tr>\n",
       "    <tr>\n",
       "      <th>299</th>\n",
       "      <td>Marshall Wace LLP</td>\n",
       "      <td>YELLOW CAKE PLC</td>\n",
       "      <td>JE00BF50RG45</td>\n",
       "      <td>1.59</td>\n",
       "      <td>2022-12-29</td>\n",
       "    </tr>\n",
       "  </tbody>\n",
       "</table>\n",
       "<p>300 rows × 5 columns</p>\n",
       "</div>"
      ],
      "text/plain": [
       "                                  Position Holder   Name of Share Issuer  \\\n",
       "0    BlackRock Investment Management (UK) Limited              abrdn plc   \n",
       "1                 Citadel Advisors Europe Limited              abrdn plc   \n",
       "2                            Citadel Advisors LLC              abrdn plc   \n",
       "3                                 GLG Partners LP              abrdn plc   \n",
       "4            Qube Research & Technologies Limited              abrdn plc   \n",
       "..                                            ...                    ...   \n",
       "295                               GLG Partners LP  WOOD GROUP (JOHN) PLC   \n",
       "296          Qube Research & Technologies Limited  WOOD GROUP (JOHN) PLC   \n",
       "297                             Marshall Wace LLP                WPP PLC   \n",
       "298                               GLG Partners LP       XP Power Limited   \n",
       "299                             Marshall Wace LLP        YELLOW CAKE PLC   \n",
       "\n",
       "             ISIN  Net Short Position (%) Position Date  \n",
       "0    GB00BF8Q6K64                    1.05    2022-12-16  \n",
       "1    GB00BF8Q6K64                    0.90    2022-11-22  \n",
       "2    GB00BF8Q6K64                    1.00    2022-12-29  \n",
       "3    GB00BF8Q6K64                    1.15    2022-12-16  \n",
       "4    GB00BF8Q6K64                    0.55    2022-12-16  \n",
       "..            ...                     ...           ...  \n",
       "295  GB00B5N0P849                    0.68    2022-11-11  \n",
       "296  GB00B5N0P849                    0.81    2022-12-16  \n",
       "297  JE00B8KF9B49                    0.79    2022-12-13  \n",
       "298  SG9999003735                    1.06    2022-11-10  \n",
       "299  JE00BF50RG45                    1.59    2022-12-29  \n",
       "\n",
       "[300 rows x 5 columns]"
      ]
     },
     "execution_count": 13,
     "metadata": {},
     "output_type": "execute_result"
    }
   ],
   "source": [
    "cur_discl"
   ]
  },
  {
   "cell_type": "code",
   "execution_count": null,
   "metadata": {},
   "outputs": [],
   "source": []
  },
  {
   "cell_type": "code",
   "execution_count": null,
   "metadata": {},
   "outputs": [],
   "source": []
  },
  {
   "cell_type": "code",
   "execution_count": null,
   "metadata": {},
   "outputs": [],
   "source": []
  },
  {
   "cell_type": "code",
   "execution_count": null,
   "metadata": {},
   "outputs": [],
   "source": [
    "ALPHAVANTAGE_ENDPOINT = \"https://www.alphavantage.co/query?\"\n",
    "\n",
    "import requests\n",
    "\n",
    "from short_tracker.data import APIRateLimitException\n",
    "\n",
    "# def query_mkt_data(ticker, api_key):\n",
    "#     \"\"\"Query Alphavantage for adjusted stock prices and \"\"\"\n",
    "#     def query_endpoint(fn):\n",
    "#         av_args = {\"function\": fn, \"symbol\": ticker, \"apikey\": api_key}\n",
    "#         resp = requests.get(ALPHAVANTAGE_ENDPOINT, params=av_args)\n",
    "#         resp.raise_for_status()\n",
    "#         data = resp.json()\n",
    "        \n",
    "#         if \"Note\" in data:\n",
    "#             raise APIRateLimitException\n",
    "#         elif \"Error Message\" in data:\n",
    "#             raise ValueError(data[\"Error Message\"])\n",
    "#         return data\n",
    "        \n",
    "#     price = query_endpoint(\"TIME_SERIES_DAILY_ADJUSTED\")\n",
    "#     sec_info = query_endpoint(\"OVERVIEW\")\n",
    "#     return price, sec_info\n",
    "\n",
    "# price, sec_info = query_mkt_data(\"RWI.L\", ALPHAVANGATE_KEY)"
   ]
  }
 ],
 "metadata": {
  "interpreter": {
   "hash": "a9ab7968c080d1dba482eb377239eb3122c3a469d6dc2cfe8b4b9a36c97f191a"
  },
  "kernelspec": {
   "display_name": "Python 3.11.0 ('venv')",
   "language": "python",
   "name": "python3"
  },
  "language_info": {
   "codemirror_mode": {
    "name": "ipython",
    "version": 3
   },
   "file_extension": ".py",
   "mimetype": "text/x-python",
   "name": "python",
   "nbconvert_exporter": "python",
   "pygments_lexer": "ipython3",
   "version": "3.11.0"
  },
  "orig_nbformat": 4,
  "vscode": {
   "interpreter": {
    "hash": "31f2aee4e71d21fbe5cf8b01ff0e069b9275f58929596ceb00d14d90e3e16cd6"
   }
  }
 },
 "nbformat": 4,
 "nbformat_minor": 2
}
